{
 "cells": [
  {
   "cell_type": "code",
   "execution_count": null,
   "id": "8be28803",
   "metadata": {},
   "outputs": [
    {
     "name": "stdout",
     "output_type": "stream",
     "text": [
      "✅ students.json created successfully!\n"
     ]
    }
   ],
   "source": [
    "import json\n",
    "\n",
    "# Use the existing students variable if present, otherwise initialize\n",
    "try:\n",
    "    students # type: ignore\n",
    "except NameError:\n",
    "    try:\n",
    "        with open(\"students.json\", \"r\") as f:\n",
    "            students = json.load(f)\n",
    "    except (FileNotFoundError, json.JSONDecodeError):\n",
    "        students = []\n",
    "\n",
    "while True:\n",
    "    name = input(\"Enter name: \")\n",
    "    if name == \"\":\n",
    "        break\n",
    "    age = int(input(\"Enter age: \"))\n",
    "    score = int(input(\"Enter score: \"))\n",
    "    student = {\"name\": name, \"age\": age, \"score\": score}\n",
    "    students.append(student)\n",
    "\n",
    "# Save to students.json\n",
    "with open(\"students.json\", \"w\") as f:\n",
    "    json.dump(students, f, indent=4)\n",
    "\n",
    "print(\"✅ students.json created successfully!\")\n",
    " "
   ]
  },
  {
   "cell_type": "code",
   "execution_count": 39,
   "id": "315c742a",
   "metadata": {},
   "outputs": [
    {
     "name": "stdout",
     "output_type": "stream",
     "text": [
      "Dataset:\n",
      "        name  age  score\n",
      "0     heelo  230     23\n",
      "1      ram    49     89\n",
      "2      hkot   65     67\n",
      "3  harshit    20     45 \n",
      "\n",
      "📊 Analysis Results:\n",
      "Mean age: 91.0\n",
      "Mean score: 56.0\n",
      "Total students: 4\n",
      "Students above 20:\n",
      "     name  age  score\n",
      "0  heelo  230     23\n",
      "1   ram    49     89\n",
      "2   hkot   65     67 \n",
      "\n",
      "High scorers (score >= 85):\n",
      "    name  age  score\n",
      "1  ram    49     89\n"
     ]
    }
   ],
   "source": [
    "import pandas as pd\n",
    "\n",
    "# Step 1: Load JSON into DataFrame\n",
    "df = pd.read_json(\"students.json\")\n",
    "\n",
    "# Step 2: View dataset\n",
    "print(\"Dataset:\\n\", df, \"\\n\")\n",
    "\n",
    "# Step 3: Simple Analysis\n",
    "print(\"📊 Analysis Results:\")\n",
    "print(\"Mean age:\", df[\"age\"].mean())\n",
    "print(\"Mean score:\", df[\"score\"].mean())\n",
    "print(\"Total students:\", df.shape[0])\n",
    "print(\"Students above 20:\\n\", df[df[\"age\"] > 20], \"\\n\")\n",
    "\n",
    "# Step 4: Filtering\n",
    "print(\"High scorers (score >= 85):\\n\", df[df[\"score\"] >= 85])\n"
   ]
  }
 ],
 "metadata": {
  "kernelspec": {
   "display_name": "Python 3",
   "language": "python",
   "name": "python3"
  },
  "language_info": {
   "codemirror_mode": {
    "name": "ipython",
    "version": 3
   },
   "file_extension": ".py",
   "mimetype": "text/x-python",
   "name": "python",
   "nbconvert_exporter": "python",
   "pygments_lexer": "ipython3",
   "version": "3.12.6"
  }
 },
 "nbformat": 4,
 "nbformat_minor": 5
}
